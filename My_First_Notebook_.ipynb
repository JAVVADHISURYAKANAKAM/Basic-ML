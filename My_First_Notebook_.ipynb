{
  "nbformat": 4,
  "nbformat_minor": 0,
  "metadata": {
    "colab": {
      "name": "My First Notebook .ipynb",
      "provenance": [],
      "authorship_tag": "ABX9TyNTPq59rR+VMdPEZpOj4vaU",
      "include_colab_link": true
    },
    "kernelspec": {
      "name": "python3",
      "display_name": "Python 3"
    },
    "language_info": {
      "name": "python"
    }
  },
  "cells": [
    {
      "cell_type": "markdown",
      "metadata": {
        "id": "view-in-github",
        "colab_type": "text"
      },
      "source": [
        "<a href=\"https://colab.research.google.com/github/JAVVADHISURYAKANAKAM/Basic-ML/blob/main/My_First_Notebook_.ipynb\" target=\"_parent\"><img src=\"https://colab.research.google.com/assets/colab-badge.svg\" alt=\"Open In Colab\"/></a>"
      ]
    },
    {
      "cell_type": "markdown",
      "metadata": {
        "id": "Ey3rTt_Xzw4-"
      },
      "source": [
        "Python Program For Maximum Of Two Numbers:"
      ]
    },
    {
      "cell_type": "code",
      "metadata": {
        "id": "E2yue6xK0Ha7",
        "colab": {
          "base_uri": "https://localhost:8080/"
        },
        "outputId": "eb3c72ae-d976-4ec2-8ace-26825f0ff3c3"
      },
      "source": [
        "a=int(input(\"enter a:\"))\n",
        "b=int(input(\"enter b:\"))\n",
        "if (a>b):\n",
        "   print(\"max is a\")\n",
        "else:\n",
        "   print(\"max is b\")"
      ],
      "execution_count": 33,
      "outputs": [
        {
          "output_type": "stream",
          "text": [
            "enter a:24\n",
            "enter b:62\n",
            "max is b\n"
          ],
          "name": "stdout"
        }
      ]
    },
    {
      "cell_type": "markdown",
      "metadata": {
        "id": "G573Tas87LDu"
      },
      "source": [
        "Python Program For Finding Even Or Odd:"
      ]
    },
    {
      "cell_type": "code",
      "metadata": {
        "colab": {
          "base_uri": "https://localhost:8080/"
        },
        "id": "rC9elrhG7f_p",
        "outputId": "1e48b80b-daaf-4b3b-eab6-b5202232271d"
      },
      "source": [
        " \n",
        " \n",
        " \n",
        "N=int(input())\n",
        "if (N%2==0):\n",
        "   print(\" Even\")\n",
        "else:\n",
        "   print (\" Odd\")"
      ],
      "execution_count": 37,
      "outputs": [
        {
          "output_type": "stream",
          "text": [
            "62\n",
            " Even\n"
          ],
          "name": "stdout"
        }
      ]
    },
    {
      "cell_type": "markdown",
      "metadata": {
        "id": "QM9YS3-U7tyg"
      },
      "source": [
        "Python Program For finding Area of a circle:"
      ]
    },
    {
      "cell_type": "code",
      "metadata": {
        "colab": {
          "base_uri": "https://localhost:8080/"
        },
        "id": "BraXY7Mj_ZPZ",
        "outputId": "5c38739d-59b8-427c-fd28-2dbfa844d78e"
      },
      "source": [
        "\n",
        "\n",
        "pi = 3.14\n",
        "r = float(input(\"enter the radius of a circle:\"))\n",
        "area = pi * r * r\n",
        "print(area)"
      ],
      "execution_count": 59,
      "outputs": [
        {
          "output_type": "stream",
          "text": [
            "enter the radius of a circle:10\n",
            "314.0\n"
          ],
          "name": "stdout"
        }
      ]
    }
  ]
}